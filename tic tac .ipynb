{
 "cells": [
  {
   "cell_type": "markdown",
   "metadata": {},
   "source": [
    "# Tic Tac Toe"
   ]
  },
  {
   "cell_type": "code",
   "execution_count": 1,
   "metadata": {
    "collapsed": true
   },
   "outputs": [],
   "source": [
    "from IPython.display import clear_output\n",
    "def display_board(board):\n",
    "    \n",
    "    print(board[1] + '|'+ board[2] + '|' + board[3])\n",
    "    print('-|-|-')\n",
    "    print(board[4] +'|' + board[5] +'|' + board[6])\n",
    "    print('-|-|-')\n",
    "    print(board[7] +'|' + board[8] +'|' + board[9])\n"
   ]
  },
  {
   "cell_type": "code",
   "execution_count": 2,
   "metadata": {},
   "outputs": [
    {
     "name": "stdout",
     "output_type": "stream",
     "text": [
      " | |x\n",
      "-|-|-\n",
      "x|o|o\n",
      "-|-|-\n",
      "x|o|x\n"
     ]
    }
   ],
   "source": [
    "board = ['#',' ',' ', 'x','x','o', 'o','x','o', 'x']\n",
    "display_board(board)"
   ]
  },
  {
   "cell_type": "code",
   "execution_count": 3,
   "metadata": {
    "collapsed": true
   },
   "outputs": [],
   "source": [
    "def player_input():\n",
    "    marker = ''\n",
    "\n",
    "    while marker != 'x' and marker != 'o':\n",
    "        marker = input('player1: what would you like to chose x or o ')\n",
    "    \n",
    "    \n",
    "    player_1 = marker\n",
    "    if player_1 == 'x':\n",
    "        player_2 = 'o'\n",
    "    else:\n",
    "        player_2 = 'x'\n",
    "    return player_1, player_2\n",
    "    "
   ]
  },
  {
   "cell_type": "code",
   "execution_count": 4,
   "metadata": {},
   "outputs": [
    {
     "name": "stdout",
     "output_type": "stream",
     "text": [
      "player1: what would you like to chose x or o o\n"
     ]
    },
    {
     "data": {
      "text/plain": [
       "('o', 'x')"
      ]
     },
     "execution_count": 4,
     "metadata": {},
     "output_type": "execute_result"
    }
   ],
   "source": [
    "player_input()"
   ]
  },
  {
   "cell_type": "code",
   "execution_count": 5,
   "metadata": {
    "collapsed": true
   },
   "outputs": [],
   "source": [
    "def place_marker(board, marker, position):\n",
    "    board[position] = marker"
   ]
  },
  {
   "cell_type": "code",
   "execution_count": 6,
   "metadata": {},
   "outputs": [
    {
     "name": "stdout",
     "output_type": "stream",
     "text": [
      " | |x\n",
      "-|-|-\n",
      "x|o|o\n",
      "-|-|-\n",
      "x|o|x\n"
     ]
    }
   ],
   "source": [
    "place_marker(board,'x', 4 )\n",
    "display_board(board)"
   ]
  },
  {
   "cell_type": "code",
   "execution_count": 7,
   "metadata": {
    "collapsed": true
   },
   "outputs": [],
   "source": [
    "def win_check(board, mark):\n",
    "    \n",
    "    return ((board[1] ==board[2] ==board[3] == mark) or\n",
    "    (board[4] ==board[5] ==board[6] == mark) or\n",
    "    (board[7] ==board[8] ==board[9] == mark) or\n",
    "    (board[1] ==board[4] ==board[7] == mark) or\n",
    "    (board[2] ==board[5] ==board[8] == mark) or\n",
    "    (board[3] ==board[6] ==board[9] == mark) or\n",
    "    (board[1] ==board[5] ==board[9] == mark) or\n",
    "    (board[3] ==board[5] ==board[7] == mark))\n",
    "        \n",
    "\n",
    "        "
   ]
  },
  {
   "cell_type": "code",
   "execution_count": 8,
   "metadata": {},
   "outputs": [
    {
     "data": {
      "text/plain": [
       "False"
      ]
     },
     "execution_count": 8,
     "metadata": {},
     "output_type": "execute_result"
    }
   ],
   "source": [
    "win_check(board, 'x')\n"
   ]
  },
  {
   "cell_type": "code",
   "execution_count": 9,
   "metadata": {
    "collapsed": true
   },
   "outputs": [],
   "source": [
    "import random\n",
    "def choose_first():\n",
    "    x = random.choice(['player1', 'player2'])\n",
    "    y = str(x)\n",
    "    return y"
   ]
  },
  {
   "cell_type": "code",
   "execution_count": 10,
   "metadata": {},
   "outputs": [
    {
     "data": {
      "text/plain": [
       "'player2'"
      ]
     },
     "execution_count": 10,
     "metadata": {},
     "output_type": "execute_result"
    }
   ],
   "source": [
    "choose_first()"
   ]
  },
  {
   "cell_type": "code",
   "execution_count": 11,
   "metadata": {
    "collapsed": true
   },
   "outputs": [],
   "source": [
    "def space_check(board, position):\n",
    "    return(board[position] == ' ')\n",
    "            "
   ]
  },
  {
   "cell_type": "code",
   "execution_count": 12,
   "metadata": {},
   "outputs": [
    {
     "data": {
      "text/plain": [
       "True"
      ]
     },
     "execution_count": 12,
     "metadata": {},
     "output_type": "execute_result"
    }
   ],
   "source": [
    "space_check(board, 2)"
   ]
  },
  {
   "cell_type": "code",
   "execution_count": 13,
   "metadata": {
    "collapsed": true
   },
   "outputs": [],
   "source": [
    "def full_board_check(board):\n",
    "    for i in range(1,10):\n",
    "        if board[i] == ' ':\n",
    "            return False\n",
    "    return True\n",
    "        "
   ]
  },
  {
   "cell_type": "code",
   "execution_count": 14,
   "metadata": {},
   "outputs": [
    {
     "data": {
      "text/plain": [
       "False"
      ]
     },
     "execution_count": 14,
     "metadata": {},
     "output_type": "execute_result"
    }
   ],
   "source": [
    "full_board_check(board)"
   ]
  },
  {
   "cell_type": "code",
   "execution_count": 15,
   "metadata": {
    "collapsed": true
   },
   "outputs": [],
   "source": [
    "def player_choice(board):\n",
    "    positions = 1\n",
    "    while positions:\n",
    "        positions = int(input('Please enter the position: '))\n",
    "        if board[positions] == ' ':\n",
    "            return positions\n",
    "        else:\n",
    "            print('This position is filled ')\n",
    "            "
   ]
  },
  {
   "cell_type": "code",
   "execution_count": 16,
   "metadata": {},
   "outputs": [
    {
     "name": "stdout",
     "output_type": "stream",
     "text": [
      "Please enter the position: 5\n",
      "This position is filled \n",
      "Please enter the position: 1\n"
     ]
    },
    {
     "data": {
      "text/plain": [
       "1"
      ]
     },
     "execution_count": 16,
     "metadata": {},
     "output_type": "execute_result"
    }
   ],
   "source": [
    "player_choice(board)"
   ]
  },
  {
   "cell_type": "code",
   "execution_count": 17,
   "metadata": {
    "collapsed": true
   },
   "outputs": [],
   "source": [
    "def replay():\n",
    "    retry = str(input('Do you wanna play again? Y/N'))\n",
    "    if retry == 'Y':\n",
    "        return True\n",
    "    elif retry == 'N':\n",
    "        return False\n",
    "    else:\n",
    "        return False\n",
    "    "
   ]
  },
  {
   "cell_type": "code",
   "execution_count": 18,
   "metadata": {},
   "outputs": [
    {
     "name": "stdout",
     "output_type": "stream",
     "text": [
      "Do you wanna play again? Y/Ny\n"
     ]
    },
    {
     "data": {
      "text/plain": [
       "False"
      ]
     },
     "execution_count": 18,
     "metadata": {},
     "output_type": "execute_result"
    }
   ],
   "source": [
    "replay()"
   ]
  },
  {
   "cell_type": "code",
   "execution_count": 19,
   "metadata": {
    "collapsed": true
   },
   "outputs": [],
   "source": [
    "def some():\n",
    "    player1, player2 = player_input()\n",
    "    print(player1, player2)"
   ]
  },
  {
   "cell_type": "code",
   "execution_count": 20,
   "metadata": {},
   "outputs": [
    {
     "name": "stdout",
     "output_type": "stream",
     "text": [
      "player1: what would you like to chose x or o x\n",
      "x o\n"
     ]
    }
   ],
   "source": [
    "some()"
   ]
  },
  {
   "cell_type": "code",
   "execution_count": null,
   "metadata": {
    "collapsed": true
   },
   "outputs": [],
   "source": []
  },
  {
   "cell_type": "code",
   "execution_count": 21,
   "metadata": {
    "scrolled": true
   },
   "outputs": [
    {
     "name": "stdout",
     "output_type": "stream",
     "text": [
      "player1: what would you like to chose x or o x\n",
      "\n",
      "player2 will go first \n",
      " | | \n",
      "-|-|-\n",
      " | | \n",
      "-|-|-\n",
      " | | \n",
      "Please enter the position: 1\n",
      "o| | \n",
      "-|-|-\n",
      " | | \n",
      "-|-|-\n",
      " | | \n",
      "Please enter the position: 2\n",
      "o|x| \n",
      "-|-|-\n",
      " | | \n",
      "-|-|-\n",
      " | | \n",
      "Please enter the position: 3\n",
      "o|x|o\n",
      "-|-|-\n",
      " | | \n",
      "-|-|-\n",
      " | | \n",
      "Please enter the position: 4\n",
      "o|x|o\n",
      "-|-|-\n",
      "x| | \n",
      "-|-|-\n",
      " | | \n",
      "Please enter the position: 5\n",
      "o|x|o\n",
      "-|-|-\n",
      "x|o| \n",
      "-|-|-\n",
      " | | \n",
      "Please enter the position: 6\n",
      "o|x|o\n",
      "-|-|-\n",
      "x|o|x\n",
      "-|-|-\n",
      " | | \n",
      "Please enter the position: 7\n",
      "o|x|o\n",
      "-|-|-\n",
      "x|o|x\n",
      "-|-|-\n",
      "o| | \n",
      "Congratulations you won\n",
      "Do you wanna play again? Y/NY\n",
      "player1: what would you like to chose x or o o\n",
      "\n",
      "player1 will go first \n",
      " | | \n",
      "-|-|-\n",
      " | | \n",
      "-|-|-\n",
      " | | \n",
      "Please enter the position: x\n"
     ]
    },
    {
     "ename": "ValueError",
     "evalue": "invalid literal for int() with base 10: 'x'",
     "output_type": "error",
     "traceback": [
      "\u001b[1;31m---------------------------------------------------------------------------\u001b[0m",
      "\u001b[1;31mValueError\u001b[0m                                Traceback (most recent call last)",
      "\u001b[1;32m<ipython-input-21-9b6804f7eb56>\u001b[0m in \u001b[0;36m<module>\u001b[1;34m()\u001b[0m\n\u001b[0;32m     10\u001b[0m         \u001b[1;32mif\u001b[0m \u001b[0mturn\u001b[0m \u001b[1;33m==\u001b[0m \u001b[1;34m'player1'\u001b[0m\u001b[1;33m:\u001b[0m\u001b[1;33m\u001b[0m\u001b[0m\n\u001b[0;32m     11\u001b[0m             \u001b[0mdisplay_board\u001b[0m\u001b[1;33m(\u001b[0m\u001b[0mthe_board\u001b[0m\u001b[1;33m)\u001b[0m\u001b[1;33m\u001b[0m\u001b[0m\n\u001b[1;32m---> 12\u001b[1;33m             \u001b[0mposition\u001b[0m \u001b[1;33m=\u001b[0m \u001b[0mplayer_choice\u001b[0m\u001b[1;33m(\u001b[0m\u001b[0mthe_board\u001b[0m\u001b[1;33m)\u001b[0m\u001b[1;33m\u001b[0m\u001b[0m\n\u001b[0m\u001b[0;32m     13\u001b[0m             \u001b[0mplace_marker\u001b[0m\u001b[1;33m(\u001b[0m\u001b[0mthe_board\u001b[0m\u001b[1;33m,\u001b[0m \u001b[0mplayer1\u001b[0m\u001b[1;33m,\u001b[0m \u001b[0mposition\u001b[0m\u001b[1;33m)\u001b[0m\u001b[1;33m\u001b[0m\u001b[0m\n\u001b[0;32m     14\u001b[0m \u001b[1;33m\u001b[0m\u001b[0m\n",
      "\u001b[1;32m<ipython-input-15-1839f30f82e1>\u001b[0m in \u001b[0;36mplayer_choice\u001b[1;34m(board)\u001b[0m\n\u001b[0;32m      2\u001b[0m     \u001b[0mpositions\u001b[0m \u001b[1;33m=\u001b[0m \u001b[1;36m1\u001b[0m\u001b[1;33m\u001b[0m\u001b[0m\n\u001b[0;32m      3\u001b[0m     \u001b[1;32mwhile\u001b[0m \u001b[0mpositions\u001b[0m\u001b[1;33m:\u001b[0m\u001b[1;33m\u001b[0m\u001b[0m\n\u001b[1;32m----> 4\u001b[1;33m         \u001b[0mpositions\u001b[0m \u001b[1;33m=\u001b[0m \u001b[0mint\u001b[0m\u001b[1;33m(\u001b[0m\u001b[0minput\u001b[0m\u001b[1;33m(\u001b[0m\u001b[1;34m'Please enter the position: '\u001b[0m\u001b[1;33m)\u001b[0m\u001b[1;33m)\u001b[0m\u001b[1;33m\u001b[0m\u001b[0m\n\u001b[0m\u001b[0;32m      5\u001b[0m         \u001b[1;32mif\u001b[0m \u001b[0mboard\u001b[0m\u001b[1;33m[\u001b[0m\u001b[0mpositions\u001b[0m\u001b[1;33m]\u001b[0m \u001b[1;33m==\u001b[0m \u001b[1;34m' '\u001b[0m\u001b[1;33m:\u001b[0m\u001b[1;33m\u001b[0m\u001b[0m\n\u001b[0;32m      6\u001b[0m             \u001b[1;32mreturn\u001b[0m \u001b[0mpositions\u001b[0m\u001b[1;33m\u001b[0m\u001b[0m\n",
      "\u001b[1;31mValueError\u001b[0m: invalid literal for int() with base 10: 'x'"
     ]
    }
   ],
   "source": [
    "while True:\n",
    "    the_board = [' ']*10\n",
    "    player1, player2 = player_input()\n",
    "    turn = choose_first()\n",
    "    print('\\n' + turn + ' will go first ')\n",
    "    \n",
    "    game_on = True\n",
    "    \n",
    "    while game_on:\n",
    "        if turn == 'player1':\n",
    "            display_board(the_board)\n",
    "            position = player_choice(the_board)\n",
    "            place_marker(the_board, player1, position)\n",
    "            \n",
    "            if win_check(the_board, player1):\n",
    "                display_board(the_board)\n",
    "                print('Congratulations you won')\n",
    "                game_on = False\n",
    "            else:\n",
    "                if full_board_check(the_board):\n",
    "                    display_board(the_board)\n",
    "                    print('The Game is draw')\n",
    "                    \n",
    "                else:\n",
    "                    turn = 'player2'\n",
    "        else:\n",
    "            display_board(the_board)\n",
    "            position = player_choice(the_board)\n",
    "            place_marker(the_board, player2, position)\n",
    "            if win_check(the_board, player2):\n",
    "                display_board(the_board)\n",
    "                print('Congratulations you won')\n",
    "                game_on = False\n",
    "                \n",
    "            else:\n",
    "                if full_board_check(the_board):\n",
    "                    display_board(the_board)\n",
    "                    print('The Game is draw')\n",
    "                    \n",
    "                else:\n",
    "                    turn = 'player1'\n",
    "        \n",
    "    if not replay():\n",
    "        break\n",
    "                \n",
    "    "
   ]
  },
  {
   "cell_type": "code",
   "execution_count": null,
   "metadata": {
    "collapsed": true
   },
   "outputs": [],
   "source": []
  }
 ],
 "metadata": {
  "kernelspec": {
   "display_name": "Python 3",
   "language": "python",
   "name": "python3"
  },
  "language_info": {
   "codemirror_mode": {
    "name": "ipython",
    "version": 3
   },
   "file_extension": ".py",
   "mimetype": "text/x-python",
   "name": "python",
   "nbconvert_exporter": "python",
   "pygments_lexer": "ipython3",
   "version": "3.6.2"
  }
 },
 "nbformat": 4,
 "nbformat_minor": 2
}
